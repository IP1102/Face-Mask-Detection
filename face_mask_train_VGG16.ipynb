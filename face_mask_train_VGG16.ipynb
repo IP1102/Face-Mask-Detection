{
  "nbformat": 4,
  "nbformat_minor": 0,
  "metadata": {
    "colab": {
      "name": "face_mask_train_VGG16.ipynb",
      "provenance": [],
      "collapsed_sections": [],
      "toc_visible": true,
      "authorship_tag": "ABX9TyPRwV0SXEWc84OQsVrDXBGh",
      "include_colab_link": true
    },
    "kernelspec": {
      "name": "python3",
      "display_name": "Python 3"
    },
    "accelerator": "GPU"
  },
  "cells": [
    {
      "cell_type": "markdown",
      "metadata": {
        "id": "view-in-github",
        "colab_type": "text"
      },
      "source": [
        "<a href=\"https://colab.research.google.com/github/IP1102/Face-Mask-Detection/blob/master/face_mask_train_VGG16.ipynb\" target=\"_parent\"><img src=\"https://colab.research.google.com/assets/colab-badge.svg\" alt=\"Open In Colab\"/></a>"
      ]
    },
    {
      "cell_type": "code",
      "metadata": {
        "id": "mUO6DGNj1Z7e",
        "colab_type": "code",
        "colab": {
          "base_uri": "https://localhost:8080/",
          "height": 121
        },
        "outputId": "2bb9572d-eafb-476e-fa72-f6d51946d69b"
      },
      "source": [
        "from google.colab import drive\n",
        "drive.mount('/content/drive')"
      ],
      "execution_count": null,
      "outputs": [
        {
          "output_type": "stream",
          "text": [
            "Go to this URL in a browser: https://accounts.google.com/o/oauth2/auth?client_id=947318989803-6bn6qk8qdgf4n4g3pfee6491hc0brc4i.apps.googleusercontent.com&redirect_uri=urn%3aietf%3awg%3aoauth%3a2.0%3aoob&response_type=code&scope=email%20https%3a%2f%2fwww.googleapis.com%2fauth%2fdocs.test%20https%3a%2f%2fwww.googleapis.com%2fauth%2fdrive%20https%3a%2f%2fwww.googleapis.com%2fauth%2fdrive.photos.readonly%20https%3a%2f%2fwww.googleapis.com%2fauth%2fpeopleapi.readonly\n",
            "\n",
            "Enter your authorization code:\n",
            "··········\n",
            "Mounted at /content/drive\n"
          ],
          "name": "stdout"
        }
      ]
    },
    {
      "cell_type": "code",
      "metadata": {
        "id": "-qoQSRoY1j0j",
        "colab_type": "code",
        "colab": {
          "base_uri": "https://localhost:8080/",
          "height": 34
        },
        "outputId": "a5da4bed-56f6-4cc9-dadf-a0dcf94c106f"
      },
      "source": [
        "import os\n",
        "import numpy as np\n",
        "import pandas as pd\n",
        "import tensorflow as tf\n",
        "from keras.preprocessing.image import ImageDataGenerator, load_img, img_to_array, array_to_img"
      ],
      "execution_count": null,
      "outputs": [
        {
          "output_type": "stream",
          "text": [
            "Using TensorFlow backend.\n"
          ],
          "name": "stderr"
        }
      ]
    },
    {
      "cell_type": "code",
      "metadata": {
        "id": "W_vuHZxu1t3A",
        "colab_type": "code",
        "colab": {}
      },
      "source": [
        "img = []\n",
        "label = []\n",
        "for file in os.listdir('/content/drive/My Drive/Data/Face Mask Detector/with_mask'):\n",
        "  img.append(img_to_array(tf.keras.preprocessing.image.load_img('/content/drive/My Drive/Data/Face Mask Detector/with_mask/'+file,target_size=(224,224))))\n",
        "  label.append('With Mask')\n",
        "\n",
        "for file in os.listdir('/content/drive/My Drive/Data/Face Mask Detector/without_mask'):\n",
        "  img.append(img_to_array(tf.keras.preprocessing.image.load_img('/content/drive/My Drive/Data/Face Mask Detector/without_mask/'+file,target_size=(224,224))))\n",
        "  label.append('Without Mask')"
      ],
      "execution_count": null,
      "outputs": []
    },
    {
      "cell_type": "code",
      "metadata": {
        "id": "dY37hWXx1wIi",
        "colab_type": "code",
        "colab": {
          "base_uri": "https://localhost:8080/",
          "height": 84
        },
        "outputId": "52c057f7-1067-4328-fc6c-59f29ead5ae0"
      },
      "source": [
        "print(len(img))\n",
        "print(len(label))\n",
        "\n",
        "img_ar = np.array(img)\n",
        "label_ar = np.array(label)\n",
        "\n",
        "print(img_ar.shape)\n",
        "print(label_ar.shape)\n"
      ],
      "execution_count": null,
      "outputs": [
        {
          "output_type": "stream",
          "text": [
            "1376\n",
            "1376\n",
            "(1376, 224, 224, 3)\n",
            "(1376,)\n"
          ],
          "name": "stdout"
        }
      ]
    },
    {
      "cell_type": "code",
      "metadata": {
        "id": "nRiLcZZY3cKu",
        "colab_type": "code",
        "colab": {
          "base_uri": "https://localhost:8080/",
          "height": 34
        },
        "outputId": "3b2584e6-c1f9-4a09-8e3e-6117d297b142"
      },
      "source": [
        "from sklearn.preprocessing import LabelEncoder\n",
        "le = LabelEncoder()\n",
        "label_ar_enc = le.fit_transform(label_ar)\n",
        "label_ar_enc"
      ],
      "execution_count": null,
      "outputs": [
        {
          "output_type": "execute_result",
          "data": {
            "text/plain": [
              "array([0, 0, 0, ..., 1, 1, 1])"
            ]
          },
          "metadata": {
            "tags": []
          },
          "execution_count": 21
        }
      ]
    },
    {
      "cell_type": "code",
      "metadata": {
        "id": "K9RRmRNoLRe2",
        "colab_type": "code",
        "colab": {
          "base_uri": "https://localhost:8080/",
          "height": 134
        },
        "outputId": "4080f0c1-311b-46e1-b4e8-f97ce8b95d0e"
      },
      "source": [
        "from keras.utils import to_categorical\n",
        "label_ar_enc = to_categorical(label_ar_enc)\n",
        "label_ar_enc"
      ],
      "execution_count": null,
      "outputs": [
        {
          "output_type": "execute_result",
          "data": {
            "text/plain": [
              "array([[1., 0.],\n",
              "       [1., 0.],\n",
              "       [1., 0.],\n",
              "       ...,\n",
              "       [0., 1.],\n",
              "       [0., 1.],\n",
              "       [0., 1.]], dtype=float32)"
            ]
          },
          "metadata": {
            "tags": []
          },
          "execution_count": 37
        }
      ]
    },
    {
      "cell_type": "code",
      "metadata": {
        "id": "iiB8ahR53k3P",
        "colab_type": "code",
        "colab": {}
      },
      "source": [
        "from sklearn.model_selection import train_test_split\n",
        "x_train, x_test, y_train, y_test = train_test_split(img_ar,label_ar_enc, test_size = 0.3)\n",
        "\n",
        "x_train = x_train.astype('float32')\n",
        "x_test = x_test.astype('float32')\n",
        "x_train = x_train/255\n",
        "x_test = x_test/255\n",
        "\n"
      ],
      "execution_count": null,
      "outputs": []
    },
    {
      "cell_type": "code",
      "metadata": {
        "id": "PZ-C9bVl3tI-",
        "colab_type": "code",
        "colab": {}
      },
      "source": [
        "train_datagen = ImageDataGenerator(rescale=1./255, zoom_range=0.3, rotation_range=50,\n",
        " width_shift_range=0.2, height_shift_range=0.2, shear_range=0.2, \n",
        " horizontal_flip=True, fill_mode='nearest')\n",
        "\n",
        "test_datagen = ImageDataGenerator(rescale=1./255)\n",
        "\n",
        "train_generator = train_datagen.flow(x_train, y_train,batch_size=30)\n",
        "test_generator = test_datagen.flow(x_test, y_test, batch_size=30)"
      ],
      "execution_count": null,
      "outputs": []
    },
    {
      "cell_type": "markdown",
      "metadata": {
        "id": "kTG8Rb_VUlar",
        "colab_type": "text"
      },
      "source": [
        "# Training on Pre Trained Models"
      ]
    },
    {
      "cell_type": "markdown",
      "metadata": {
        "id": "nNxNZLu6UwFX",
        "colab_type": "text"
      },
      "source": [
        "VGG16"
      ]
    },
    {
      "cell_type": "code",
      "metadata": {
        "id": "sf6_ZuFL3xFC",
        "colab_type": "code",
        "colab": {}
      },
      "source": [
        "from keras.applications import VGG16\n",
        "from keras.models import Model\n",
        "import keras\n",
        "from keras.models import Model\n",
        "from keras.layers import Dense\n",
        "from keras.layers import Flatten, Dropout\n",
        "from keras.optimizers import SGD,RMSprop\n",
        "\n",
        "vgg = VGG16(include_top = False,\n",
        "                  weights = 'imagenet',\n",
        "                  input_shape = (224,224,3))\n",
        "\n",
        "# output = vgg.layers[-1].output\n",
        "# output = keras.layers.Flatten()(output)\n",
        "\n",
        "# vgg = Model(vgg.input, output=output)\n",
        "# for layer in vgg.layers:\n",
        "#     layer.trainable = False\n",
        "# vgg.summary()\n",
        "\n",
        "for layer in vgg.layers:\n",
        "  layer.trainable = False\n",
        "\n",
        "out = vgg.layers[-1].output\n",
        "flat1 = Flatten()(out)\n",
        "den1 = Dense(128,activation = 'relu')(flat1)\n",
        "reg1 = Dropout(0.3)(den1)\n",
        "out = Dense(1,activation='sigmoid')(reg1)\n",
        "\n",
        "model = Model(vgg.inputs,out)\n",
        "\n",
        "model.compile(optimizer=RMSprop(lr=0.0001),\n",
        "              loss = 'binary_crossentropy',\n",
        "              metrics=['accuracy'])\n",
        "\n",
        "\n"
      ],
      "execution_count": null,
      "outputs": []
    },
    {
      "cell_type": "code",
      "metadata": {
        "id": "eMB7WtYI3xD_",
        "colab_type": "code",
        "colab": {
          "base_uri": "https://localhost:8080/",
          "height": 1000
        },
        "outputId": "1ea3db76-2f80-45bc-c4cf-73bde8ac8c53"
      },
      "source": [
        "history = model.fit_generator(train_generator,\n",
        "                              steps_per_epoch = len(train_generator),\n",
        "                              epochs = 50,\n",
        "                              verbose = 1,\n",
        "                              validation_data = test_generator,\n",
        "                              validation_steps=len(test_generator))"
      ],
      "execution_count": null,
      "outputs": [
        {
          "output_type": "stream",
          "text": [
            "Epoch 1/50\n",
            "33/33 [==============================] - 17s 504ms/step - loss: 0.7633 - accuracy: 0.4849 - val_loss: 0.6989 - val_accuracy: 0.4770\n",
            "Epoch 2/50\n",
            "33/33 [==============================] - 10s 312ms/step - loss: 0.6989 - accuracy: 0.5036 - val_loss: 0.6843 - val_accuracy: 0.4770\n",
            "Epoch 3/50\n",
            "33/33 [==============================] - 12s 349ms/step - loss: 0.6946 - accuracy: 0.4974 - val_loss: 0.6890 - val_accuracy: 0.4770\n",
            "Epoch 4/50\n",
            "33/33 [==============================] - 12s 349ms/step - loss: 0.6937 - accuracy: 0.4953 - val_loss: 0.6965 - val_accuracy: 0.4770\n",
            "Epoch 5/50\n",
            "33/33 [==============================] - 12s 356ms/step - loss: 0.6941 - accuracy: 0.4579 - val_loss: 0.6931 - val_accuracy: 0.5230\n",
            "Epoch 6/50\n",
            "33/33 [==============================] - 12s 354ms/step - loss: 0.6932 - accuracy: 0.5078 - val_loss: 0.6932 - val_accuracy: 0.4770\n",
            "Epoch 7/50\n",
            "33/33 [==============================] - 12s 349ms/step - loss: 0.6931 - accuracy: 0.5119 - val_loss: 0.6931 - val_accuracy: 0.4770\n",
            "Epoch 8/50\n",
            "33/33 [==============================] - 12s 351ms/step - loss: 0.6932 - accuracy: 0.5119 - val_loss: 0.6931 - val_accuracy: 0.4770\n",
            "Epoch 9/50\n",
            "33/33 [==============================] - 12s 352ms/step - loss: 0.6931 - accuracy: 0.5119 - val_loss: 0.6931 - val_accuracy: 0.4770\n",
            "Epoch 10/50\n",
            "33/33 [==============================] - 12s 351ms/step - loss: 0.6931 - accuracy: 0.5119 - val_loss: 0.6930 - val_accuracy: 0.4770\n",
            "Epoch 11/50\n",
            "33/33 [==============================] - 12s 350ms/step - loss: 0.6931 - accuracy: 0.5119 - val_loss: 0.6932 - val_accuracy: 0.4770\n",
            "Epoch 12/50\n",
            "33/33 [==============================] - 12s 354ms/step - loss: 0.6931 - accuracy: 0.5119 - val_loss: 0.6930 - val_accuracy: 0.4770\n",
            "Epoch 13/50\n",
            "33/33 [==============================] - 12s 355ms/step - loss: 0.6932 - accuracy: 0.5119 - val_loss: 0.6936 - val_accuracy: 0.4770\n",
            "Epoch 14/50\n",
            "33/33 [==============================] - 12s 351ms/step - loss: 0.6931 - accuracy: 0.5119 - val_loss: 0.6934 - val_accuracy: 0.4770\n",
            "Epoch 15/50\n",
            "33/33 [==============================] - 12s 351ms/step - loss: 0.6931 - accuracy: 0.5119 - val_loss: 0.6932 - val_accuracy: 0.4770\n",
            "Epoch 16/50\n",
            "33/33 [==============================] - 12s 351ms/step - loss: 0.6931 - accuracy: 0.5119 - val_loss: 0.6935 - val_accuracy: 0.4770\n",
            "Epoch 17/50\n",
            "33/33 [==============================] - 12s 351ms/step - loss: 0.6931 - accuracy: 0.5119 - val_loss: 0.6932 - val_accuracy: 0.4770\n",
            "Epoch 18/50\n",
            "33/33 [==============================] - 12s 351ms/step - loss: 0.6931 - accuracy: 0.5119 - val_loss: 0.6936 - val_accuracy: 0.4770\n",
            "Epoch 19/50\n",
            "33/33 [==============================] - 12s 349ms/step - loss: 0.6931 - accuracy: 0.5119 - val_loss: 0.6933 - val_accuracy: 0.4770\n",
            "Epoch 20/50\n",
            "33/33 [==============================] - 12s 355ms/step - loss: 0.6930 - accuracy: 0.5119 - val_loss: 0.6935 - val_accuracy: 0.4770\n",
            "Epoch 21/50\n",
            "33/33 [==============================] - 12s 350ms/step - loss: 0.6932 - accuracy: 0.5119 - val_loss: 0.6937 - val_accuracy: 0.4770\n",
            "Epoch 22/50\n",
            "33/33 [==============================] - 12s 350ms/step - loss: 0.6931 - accuracy: 0.5119 - val_loss: 0.6933 - val_accuracy: 0.4770\n",
            "Epoch 23/50\n",
            "33/33 [==============================] - 12s 350ms/step - loss: 0.6932 - accuracy: 0.5119 - val_loss: 0.6935 - val_accuracy: 0.4770\n",
            "Epoch 24/50\n",
            "33/33 [==============================] - 12s 349ms/step - loss: 0.6931 - accuracy: 0.5119 - val_loss: 0.6941 - val_accuracy: 0.4770\n",
            "Epoch 25/50\n",
            "33/33 [==============================] - 12s 356ms/step - loss: 0.6932 - accuracy: 0.5119 - val_loss: 0.6943 - val_accuracy: 0.4770\n",
            "Epoch 26/50\n",
            "33/33 [==============================] - 12s 352ms/step - loss: 0.6931 - accuracy: 0.5119 - val_loss: 0.6930 - val_accuracy: 0.4770\n",
            "Epoch 27/50\n",
            "33/33 [==============================] - 12s 352ms/step - loss: 0.6931 - accuracy: 0.5119 - val_loss: 0.6939 - val_accuracy: 0.4770\n",
            "Epoch 28/50\n",
            "33/33 [==============================] - 12s 351ms/step - loss: 0.6931 - accuracy: 0.5119 - val_loss: 0.6919 - val_accuracy: 0.4770\n",
            "Epoch 29/50\n",
            "33/33 [==============================] - 11s 348ms/step - loss: 0.6930 - accuracy: 0.5119 - val_loss: 0.6927 - val_accuracy: 0.4770\n",
            "Epoch 30/50\n",
            "33/33 [==============================] - 12s 350ms/step - loss: 0.6930 - accuracy: 0.5119 - val_loss: 0.6943 - val_accuracy: 0.4770\n",
            "Epoch 31/50\n",
            "33/33 [==============================] - 11s 348ms/step - loss: 0.6931 - accuracy: 0.5119 - val_loss: 0.6933 - val_accuracy: 0.4770\n",
            "Epoch 32/50\n",
            "33/33 [==============================] - 12s 350ms/step - loss: 0.6931 - accuracy: 0.5119 - val_loss: 0.6926 - val_accuracy: 0.4770\n",
            "Epoch 33/50\n",
            "33/33 [==============================] - 12s 350ms/step - loss: 0.6930 - accuracy: 0.5119 - val_loss: 0.6948 - val_accuracy: 0.4770\n",
            "Epoch 34/50\n",
            "33/33 [==============================] - 12s 350ms/step - loss: 0.6932 - accuracy: 0.5119 - val_loss: 0.6941 - val_accuracy: 0.4770\n",
            "Epoch 35/50\n",
            "33/33 [==============================] - 11s 347ms/step - loss: 0.6929 - accuracy: 0.5119 - val_loss: 0.6953 - val_accuracy: 0.4770\n",
            "Epoch 36/50\n",
            "33/33 [==============================] - 12s 349ms/step - loss: 0.6931 - accuracy: 0.5119 - val_loss: 0.6938 - val_accuracy: 0.4770\n",
            "Epoch 37/50\n",
            "33/33 [==============================] - 11s 348ms/step - loss: 0.6931 - accuracy: 0.5119 - val_loss: 0.6938 - val_accuracy: 0.4770\n",
            "Epoch 38/50\n",
            "33/33 [==============================] - 12s 351ms/step - loss: 0.6930 - accuracy: 0.5119 - val_loss: 0.6921 - val_accuracy: 0.4770\n",
            "Epoch 39/50\n",
            "33/33 [==============================] - 12s 350ms/step - loss: 0.6930 - accuracy: 0.5119 - val_loss: 0.6934 - val_accuracy: 0.4770\n",
            "Epoch 40/50\n",
            "33/33 [==============================] - 12s 351ms/step - loss: 0.6930 - accuracy: 0.5119 - val_loss: 0.6953 - val_accuracy: 0.4770\n",
            "Epoch 41/50\n",
            "33/33 [==============================] - 12s 350ms/step - loss: 0.6931 - accuracy: 0.5119 - val_loss: 0.6915 - val_accuracy: 0.4770\n",
            "Epoch 42/50\n",
            "33/33 [==============================] - 12s 350ms/step - loss: 0.6931 - accuracy: 0.5119 - val_loss: 0.6939 - val_accuracy: 0.4770\n",
            "Epoch 43/50\n",
            "33/33 [==============================] - 12s 350ms/step - loss: 0.6931 - accuracy: 0.5119 - val_loss: 0.6920 - val_accuracy: 0.4770\n",
            "Epoch 44/50\n",
            "33/33 [==============================] - 12s 349ms/step - loss: 0.6930 - accuracy: 0.5119 - val_loss: 0.6929 - val_accuracy: 0.4770\n",
            "Epoch 45/50\n",
            "33/33 [==============================] - 12s 350ms/step - loss: 0.6932 - accuracy: 0.5119 - val_loss: 0.6924 - val_accuracy: 0.4770\n",
            "Epoch 46/50\n",
            "33/33 [==============================] - 12s 349ms/step - loss: 0.6930 - accuracy: 0.5119 - val_loss: 0.6950 - val_accuracy: 0.4770\n",
            "Epoch 47/50\n",
            "33/33 [==============================] - 12s 352ms/step - loss: 0.6930 - accuracy: 0.5119 - val_loss: 0.6940 - val_accuracy: 0.4770\n",
            "Epoch 48/50\n",
            "33/33 [==============================] - 12s 349ms/step - loss: 0.6929 - accuracy: 0.5119 - val_loss: 0.6957 - val_accuracy: 0.4770\n",
            "Epoch 49/50\n",
            "33/33 [==============================] - 12s 349ms/step - loss: 0.6929 - accuracy: 0.5119 - val_loss: 0.6940 - val_accuracy: 0.4770\n",
            "Epoch 50/50\n",
            "33/33 [==============================] - 11s 348ms/step - loss: 0.6930 - accuracy: 0.5119 - val_loss: 0.6941 - val_accuracy: 0.4770\n"
          ],
          "name": "stdout"
        }
      ]
    },
    {
      "cell_type": "code",
      "metadata": {
        "id": "u9eQyGqO9zhU",
        "colab_type": "code",
        "colab": {}
      },
      "source": [
        "model.save('/content/drive/My Drive/Data/Face Mask Detector/face_mask_vgg16.h5')"
      ],
      "execution_count": null,
      "outputs": []
    },
    {
      "cell_type": "markdown",
      "metadata": {
        "id": "S4YPFVGZGmoV",
        "colab_type": "text"
      },
      "source": [
        "Resnet50"
      ]
    },
    {
      "cell_type": "code",
      "metadata": {
        "id": "qM1L_0CaGoxT",
        "colab_type": "code",
        "colab": {
          "base_uri": "https://localhost:8080/",
          "height": 70
        },
        "outputId": "daf9f0af-0c51-4644-a8a5-4a5e0574dd6d"
      },
      "source": [
        "from keras.applications import ResNet50\n",
        "from keras.models import Model\n",
        "import keras\n",
        "from keras.models import Model\n",
        "from keras.layers import Dense\n",
        "from keras.layers import Flatten, Dropout\n",
        "from keras.optimizers import SGD,RMSprop\n",
        "\n",
        "resnet = ResNet50(include_top = False,\n",
        "                  weights = 'imagenet',\n",
        "                  input_shape = (224,224,3))\n",
        "\n",
        "# output = vgg.layers[-1].output\n",
        "# output = keras.layers.Flatten()(output)\n",
        "\n",
        "# vgg = Model(vgg.input, output=output)\n",
        "# for layer in vgg.layers:\n",
        "#     layer.trainable = False\n",
        "# vgg.summary()\n",
        "\n",
        "for layer in resnet.layers:\n",
        "  layer.trainable = False\n",
        "\n",
        "out = resnet.layers[-1].output\n",
        "flat1 = Flatten()(out)\n",
        "den1 = Dense(128,activation = 'relu')(flat1)\n",
        "reg1 = Dropout(0.3)(den1)\n",
        "out = Dense(1,activation='sigmoid')(reg1)\n",
        "\n",
        "model = Model(resnet.inputs,out)\n",
        "\n",
        "model.compile(optimizer=RMSprop(lr=0.0001),\n",
        "              loss = 'binary_crossentropy',\n",
        "              metrics=['accuracy'])\n",
        "\n",
        "\n"
      ],
      "execution_count": null,
      "outputs": [
        {
          "output_type": "stream",
          "text": [
            "/usr/local/lib/python3.6/dist-packages/keras_applications/resnet50.py:265: UserWarning: The output shape of `ResNet50(include_top=False)` has been changed since Keras 2.2.0.\n",
            "  warnings.warn('The output shape of `ResNet50(include_top=False)` '\n"
          ],
          "name": "stderr"
        }
      ]
    },
    {
      "cell_type": "code",
      "metadata": {
        "id": "sGe9PZPfG5IH",
        "colab_type": "code",
        "colab": {
          "base_uri": "https://localhost:8080/",
          "height": 1000
        },
        "outputId": "5dcb81e0-34c8-416c-f5c1-11d07a455971"
      },
      "source": [
        "history_1 = model.fit_generator(train_generator,\n",
        "                              steps_per_epoch = len(train_generator),\n",
        "                              epochs = 50,\n",
        "                              verbose = 1,\n",
        "                              validation_data = test_generator,\n",
        "                              validation_steps=len(test_generator))"
      ],
      "execution_count": null,
      "outputs": [
        {
          "output_type": "stream",
          "text": [
            "Epoch 1/50\n",
            "33/33 [==============================] - 16s 473ms/step - loss: 1.0951 - accuracy: 0.8255 - val_loss: 0.9138 - val_accuracy: 0.4770\n",
            "Epoch 2/50\n",
            "33/33 [==============================] - 11s 321ms/step - loss: 0.1733 - accuracy: 0.9512 - val_loss: 0.6350 - val_accuracy: 0.5230\n",
            "Epoch 3/50\n",
            "33/33 [==============================] - 12s 353ms/step - loss: 0.1031 - accuracy: 0.9647 - val_loss: 0.7151 - val_accuracy: 0.5230\n",
            "Epoch 4/50\n",
            "33/33 [==============================] - 12s 352ms/step - loss: 0.1265 - accuracy: 0.9647 - val_loss: 0.6695 - val_accuracy: 0.5230\n",
            "Epoch 5/50\n",
            "33/33 [==============================] - 12s 353ms/step - loss: 0.0965 - accuracy: 0.9668 - val_loss: 1.1432 - val_accuracy: 0.5230\n",
            "Epoch 6/50\n",
            "33/33 [==============================] - 12s 350ms/step - loss: 0.0821 - accuracy: 0.9761 - val_loss: 0.8421 - val_accuracy: 0.4770\n",
            "Epoch 7/50\n",
            "33/33 [==============================] - 12s 351ms/step - loss: 0.0728 - accuracy: 0.9772 - val_loss: 0.7415 - val_accuracy: 0.4770\n",
            "Epoch 8/50\n",
            "33/33 [==============================] - 12s 351ms/step - loss: 0.0760 - accuracy: 0.9844 - val_loss: 0.6957 - val_accuracy: 0.5230\n",
            "Epoch 9/50\n",
            "33/33 [==============================] - 12s 355ms/step - loss: 0.1107 - accuracy: 0.9730 - val_loss: 2.7179 - val_accuracy: 0.5230\n",
            "Epoch 10/50\n",
            "33/33 [==============================] - 12s 352ms/step - loss: 0.0872 - accuracy: 0.9782 - val_loss: 1.8654 - val_accuracy: 0.5230\n",
            "Epoch 11/50\n",
            "33/33 [==============================] - 12s 355ms/step - loss: 0.0574 - accuracy: 0.9886 - val_loss: 2.5484 - val_accuracy: 0.5230\n",
            "Epoch 12/50\n",
            "33/33 [==============================] - 12s 358ms/step - loss: 0.1618 - accuracy: 0.9834 - val_loss: 2.0702 - val_accuracy: 0.5230\n",
            "Epoch 13/50\n",
            "33/33 [==============================] - 12s 358ms/step - loss: 0.0722 - accuracy: 0.9844 - val_loss: 1.4578 - val_accuracy: 0.5230\n",
            "Epoch 14/50\n",
            "33/33 [==============================] - 12s 354ms/step - loss: 0.0476 - accuracy: 0.9896 - val_loss: 2.1854 - val_accuracy: 0.5230\n",
            "Epoch 15/50\n",
            "33/33 [==============================] - 12s 352ms/step - loss: 0.0658 - accuracy: 0.9855 - val_loss: 2.6539 - val_accuracy: 0.5230\n",
            "Epoch 16/50\n",
            "33/33 [==============================] - 12s 357ms/step - loss: 0.0356 - accuracy: 0.9886 - val_loss: 2.7516 - val_accuracy: 0.5230\n",
            "Epoch 17/50\n",
            "33/33 [==============================] - 12s 352ms/step - loss: 0.0579 - accuracy: 0.9865 - val_loss: 4.0682 - val_accuracy: 0.5230\n",
            "Epoch 18/50\n",
            "33/33 [==============================] - 12s 353ms/step - loss: 0.0875 - accuracy: 0.9813 - val_loss: 2.1395 - val_accuracy: 0.5230\n",
            "Epoch 19/50\n",
            "33/33 [==============================] - 12s 354ms/step - loss: 0.0530 - accuracy: 0.9844 - val_loss: 1.7412 - val_accuracy: 0.5230\n",
            "Epoch 20/50\n",
            "33/33 [==============================] - 12s 349ms/step - loss: 0.0647 - accuracy: 0.9875 - val_loss: 2.0598 - val_accuracy: 0.5230\n",
            "Epoch 21/50\n",
            "33/33 [==============================] - 12s 351ms/step - loss: 0.0384 - accuracy: 0.9875 - val_loss: 1.8704 - val_accuracy: 0.5230\n",
            "Epoch 22/50\n",
            "33/33 [==============================] - 12s 353ms/step - loss: 0.0200 - accuracy: 0.9938 - val_loss: 1.9799 - val_accuracy: 0.5230\n",
            "Epoch 23/50\n",
            "33/33 [==============================] - 12s 359ms/step - loss: 0.0558 - accuracy: 0.9865 - val_loss: 3.5312 - val_accuracy: 0.5230\n",
            "Epoch 24/50\n",
            "33/33 [==============================] - 12s 355ms/step - loss: 0.0576 - accuracy: 0.9927 - val_loss: 2.8006 - val_accuracy: 0.5230\n",
            "Epoch 25/50\n",
            "33/33 [==============================] - 12s 356ms/step - loss: 0.1156 - accuracy: 0.9792 - val_loss: 2.6942 - val_accuracy: 0.5230\n",
            "Epoch 26/50\n",
            "33/33 [==============================] - 12s 353ms/step - loss: 0.0293 - accuracy: 0.9938 - val_loss: 1.8536 - val_accuracy: 0.5230\n",
            "Epoch 27/50\n",
            "33/33 [==============================] - 12s 355ms/step - loss: 0.0412 - accuracy: 0.9896 - val_loss: 1.6171 - val_accuracy: 0.5230\n",
            "Epoch 28/50\n",
            "33/33 [==============================] - 12s 355ms/step - loss: 0.0134 - accuracy: 0.9948 - val_loss: 2.4431 - val_accuracy: 0.5230\n",
            "Epoch 29/50\n",
            "33/33 [==============================] - 12s 354ms/step - loss: 0.0333 - accuracy: 0.9917 - val_loss: 2.3389 - val_accuracy: 0.5230\n",
            "Epoch 30/50\n",
            "33/33 [==============================] - 12s 357ms/step - loss: 0.0645 - accuracy: 0.9886 - val_loss: 1.1008 - val_accuracy: 0.5230\n",
            "Epoch 31/50\n",
            "33/33 [==============================] - 12s 352ms/step - loss: 0.0318 - accuracy: 0.9917 - val_loss: 1.0489 - val_accuracy: 0.5230\n",
            "Epoch 32/50\n",
            "33/33 [==============================] - 12s 352ms/step - loss: 0.0405 - accuracy: 0.9907 - val_loss: 1.6513 - val_accuracy: 0.5230\n",
            "Epoch 33/50\n",
            "33/33 [==============================] - 12s 355ms/step - loss: 0.0101 - accuracy: 0.9948 - val_loss: 1.7335 - val_accuracy: 0.5230\n",
            "Epoch 34/50\n",
            "33/33 [==============================] - 12s 351ms/step - loss: 0.0323 - accuracy: 0.9938 - val_loss: 2.0656 - val_accuracy: 0.5230\n",
            "Epoch 35/50\n",
            "33/33 [==============================] - 12s 356ms/step - loss: 0.0664 - accuracy: 0.9927 - val_loss: 2.1299 - val_accuracy: 0.5230\n",
            "Epoch 36/50\n",
            "33/33 [==============================] - 12s 354ms/step - loss: 0.0348 - accuracy: 0.9927 - val_loss: 2.1866 - val_accuracy: 0.5230\n",
            "Epoch 37/50\n",
            "33/33 [==============================] - 12s 354ms/step - loss: 0.0349 - accuracy: 0.9917 - val_loss: 2.1782 - val_accuracy: 0.5230\n",
            "Epoch 38/50\n",
            "33/33 [==============================] - 12s 356ms/step - loss: 0.0406 - accuracy: 0.9958 - val_loss: 2.2249 - val_accuracy: 0.5230\n",
            "Epoch 39/50\n",
            "33/33 [==============================] - 12s 359ms/step - loss: 0.0295 - accuracy: 0.9938 - val_loss: 3.9786 - val_accuracy: 0.5230\n",
            "Epoch 40/50\n",
            "33/33 [==============================] - 12s 354ms/step - loss: 0.0629 - accuracy: 0.9886 - val_loss: 2.1372 - val_accuracy: 0.5230\n",
            "Epoch 41/50\n",
            "33/33 [==============================] - 12s 355ms/step - loss: 0.0912 - accuracy: 0.9896 - val_loss: 3.9707 - val_accuracy: 0.5230\n",
            "Epoch 42/50\n",
            "33/33 [==============================] - 12s 354ms/step - loss: 0.0366 - accuracy: 0.9927 - val_loss: 5.8937 - val_accuracy: 0.5230\n",
            "Epoch 43/50\n",
            "33/33 [==============================] - 12s 357ms/step - loss: 0.0390 - accuracy: 0.9927 - val_loss: 4.1150 - val_accuracy: 0.5230\n",
            "Epoch 44/50\n",
            "33/33 [==============================] - 12s 354ms/step - loss: 0.0488 - accuracy: 0.9907 - val_loss: 3.4332 - val_accuracy: 0.5230\n",
            "Epoch 45/50\n",
            "33/33 [==============================] - 12s 354ms/step - loss: 0.1342 - accuracy: 0.9907 - val_loss: 2.8276 - val_accuracy: 0.5230\n",
            "Epoch 46/50\n",
            "33/33 [==============================] - 12s 354ms/step - loss: 0.0283 - accuracy: 0.9938 - val_loss: 2.9726 - val_accuracy: 0.5230\n",
            "Epoch 47/50\n",
            "33/33 [==============================] - 12s 354ms/step - loss: 0.0220 - accuracy: 0.9958 - val_loss: 1.9121 - val_accuracy: 0.5230\n",
            "Epoch 48/50\n",
            "33/33 [==============================] - 12s 357ms/step - loss: 0.0284 - accuracy: 0.9907 - val_loss: 4.0041 - val_accuracy: 0.5230\n",
            "Epoch 49/50\n",
            "33/33 [==============================] - 12s 357ms/step - loss: 0.0869 - accuracy: 0.9855 - val_loss: 4.0100 - val_accuracy: 0.5230\n",
            "Epoch 50/50\n",
            "33/33 [==============================] - 12s 359ms/step - loss: 0.0513 - accuracy: 0.9917 - val_loss: 3.2445 - val_accuracy: 0.5230\n"
          ],
          "name": "stdout"
        }
      ]
    },
    {
      "cell_type": "code",
      "metadata": {
        "id": "hSg1_qDAHSPb",
        "colab_type": "code",
        "colab": {}
      },
      "source": [
        "model.save('/content/drive/My Drive/Data/Face Mask Detector/face_mask_resnet.h5')"
      ],
      "execution_count": null,
      "outputs": []
    },
    {
      "cell_type": "markdown",
      "metadata": {
        "id": "UsR4YUuiAtbk",
        "colab_type": "text"
      },
      "source": [
        "# Training on Keras VGGFace"
      ]
    },
    {
      "cell_type": "code",
      "metadata": {
        "id": "IEbsvCE1AwY9",
        "colab_type": "code",
        "colab": {
          "base_uri": "https://localhost:8080/",
          "height": 356
        },
        "outputId": "9f60b32c-e27d-4963-ca82-df34c72a1222"
      },
      "source": [
        "!pip install git+https://github.com/rcmalli/keras-vggface.git"
      ],
      "execution_count": null,
      "outputs": [
        {
          "output_type": "stream",
          "text": [
            "Collecting git+https://github.com/rcmalli/keras-vggface.git\n",
            "  Cloning https://github.com/rcmalli/keras-vggface.git to /tmp/pip-req-build-j6y11kx3\n",
            "  Running command git clone -q https://github.com/rcmalli/keras-vggface.git /tmp/pip-req-build-j6y11kx3\n",
            "Requirement already satisfied: numpy>=1.9.1 in /usr/local/lib/python3.6/dist-packages (from keras-vggface==0.6) (1.18.5)\n",
            "Requirement already satisfied: scipy>=0.14 in /usr/local/lib/python3.6/dist-packages (from keras-vggface==0.6) (1.4.1)\n",
            "Requirement already satisfied: h5py in /usr/local/lib/python3.6/dist-packages (from keras-vggface==0.6) (2.10.0)\n",
            "Requirement already satisfied: pillow in /usr/local/lib/python3.6/dist-packages (from keras-vggface==0.6) (7.0.0)\n",
            "Requirement already satisfied: keras in /usr/local/lib/python3.6/dist-packages (from keras-vggface==0.6) (2.3.1)\n",
            "Requirement already satisfied: six>=1.9.0 in /usr/local/lib/python3.6/dist-packages (from keras-vggface==0.6) (1.12.0)\n",
            "Requirement already satisfied: pyyaml in /usr/local/lib/python3.6/dist-packages (from keras-vggface==0.6) (3.13)\n",
            "Requirement already satisfied: keras-applications>=1.0.6 in /usr/local/lib/python3.6/dist-packages (from keras->keras-vggface==0.6) (1.0.8)\n",
            "Requirement already satisfied: keras-preprocessing>=1.0.5 in /usr/local/lib/python3.6/dist-packages (from keras->keras-vggface==0.6) (1.1.2)\n",
            "Building wheels for collected packages: keras-vggface\n",
            "  Building wheel for keras-vggface (setup.py) ... \u001b[?25l\u001b[?25hdone\n",
            "  Created wheel for keras-vggface: filename=keras_vggface-0.6-cp36-none-any.whl size=8311 sha256=3d81344466198fba19f56e6aa681a519788ffd1569e18c30f11cbb1aa961a381\n",
            "  Stored in directory: /tmp/pip-ephem-wheel-cache-ppahrnaj/wheels/36/07/46/06c25ce8e9cd396dabe151ea1d8a2bc28dafcb11321c1f3a6d\n",
            "Successfully built keras-vggface\n",
            "Installing collected packages: keras-vggface\n",
            "Successfully installed keras-vggface-0.6\n"
          ],
          "name": "stdout"
        }
      ]
    },
    {
      "cell_type": "markdown",
      "metadata": {
        "id": "_6zUTOxJDJDC",
        "colab_type": "text"
      },
      "source": [
        "VGG 16"
      ]
    },
    {
      "cell_type": "code",
      "metadata": {
        "id": "fGz_qMS3DK7T",
        "colab_type": "code",
        "colab": {}
      },
      "source": [
        "from keras.engine import  Model\n",
        "from keras.layers import Flatten, Dense, Input\n",
        "from keras_vggface.vggface import VGGFace\n",
        "\n",
        "#custom parameters\n",
        "nb_class = 2\n",
        "hidden_dim = 512\n",
        "\n",
        "vgg_model = VGGFace(include_top=False, input_shape=(224, 224, 3))\n",
        "last_layer = vgg_model.get_layer('pool5').output\n",
        "x = Flatten(name='flatten')(last_layer)\n",
        "x = Dense(hidden_dim, activation='relu', name='fc6')(x)\n",
        "x = Dense(hidden_dim, activation='relu', name='fc7')(x)\n",
        "out = Dense(nb_class, activation='softmax', name='fc8')(x)\n",
        "custom_vgg_model = Model(vgg_model.input, out)"
      ],
      "execution_count": null,
      "outputs": []
    },
    {
      "cell_type": "code",
      "metadata": {
        "id": "U7tlB44sD8Ej",
        "colab_type": "code",
        "colab": {}
      },
      "source": [
        "custom_vgg_model.compile(optimizer=RMSprop(lr=0.0001),\n",
        "                         loss = 'binary_crossentropy',\n",
        "                         metrics=['accuracy'])"
      ],
      "execution_count": null,
      "outputs": []
    },
    {
      "cell_type": "code",
      "metadata": {
        "id": "fviaMTW-D_2K",
        "colab_type": "code",
        "colab": {
          "base_uri": "https://localhost:8080/",
          "height": 1000
        },
        "outputId": "924ba58e-6deb-475b-b68b-1c25c827dfd2"
      },
      "source": [
        "history_2 = custom_vgg_model.fit_generator(train_generator,\n",
        "                                        steps_per_epoch = len(train_generator),\n",
        "                                        epochs = 50,\n",
        "                                        verbose = 1,\n",
        "                                        validation_data = test_generator,\n",
        "                                        validation_steps=len(test_generator))"
      ],
      "execution_count": null,
      "outputs": [
        {
          "output_type": "stream",
          "text": [
            "Epoch 1/50\n",
            "33/33 [==============================] - 22s 664ms/step - loss: 0.7593 - accuracy: 0.6781 - val_loss: 0.1596 - val_accuracy: 0.9588\n",
            "Epoch 2/50\n",
            "33/33 [==============================] - 16s 486ms/step - loss: 0.2842 - accuracy: 0.9003 - val_loss: 0.0895 - val_accuracy: 0.9831\n",
            "Epoch 3/50\n",
            "33/33 [==============================] - 16s 489ms/step - loss: 0.1904 - accuracy: 0.9346 - val_loss: 0.0817 - val_accuracy: 0.9661\n",
            "Epoch 4/50\n",
            "33/33 [==============================] - 16s 484ms/step - loss: 0.1376 - accuracy: 0.9470 - val_loss: 0.0920 - val_accuracy: 0.9855\n",
            "Epoch 5/50\n",
            "33/33 [==============================] - 16s 480ms/step - loss: 0.1266 - accuracy: 0.9543 - val_loss: 1.7254e-04 - val_accuracy: 0.9903\n",
            "Epoch 6/50\n",
            "33/33 [==============================] - 16s 480ms/step - loss: 0.1086 - accuracy: 0.9626 - val_loss: 0.0084 - val_accuracy: 0.9806\n",
            "Epoch 7/50\n",
            "33/33 [==============================] - 16s 483ms/step - loss: 0.1250 - accuracy: 0.9553 - val_loss: 0.0642 - val_accuracy: 0.9903\n",
            "Epoch 8/50\n",
            "33/33 [==============================] - 16s 484ms/step - loss: 0.0359 - accuracy: 0.9907 - val_loss: 0.0056 - val_accuracy: 0.9661\n",
            "Epoch 9/50\n",
            "33/33 [==============================] - 16s 483ms/step - loss: 0.0976 - accuracy: 0.9657 - val_loss: 0.0029 - val_accuracy: 0.9927\n",
            "Epoch 10/50\n",
            "33/33 [==============================] - 16s 484ms/step - loss: 0.0784 - accuracy: 0.9730 - val_loss: 0.1979 - val_accuracy: 0.9298\n",
            "Epoch 11/50\n",
            "33/33 [==============================] - 16s 482ms/step - loss: 0.1133 - accuracy: 0.9751 - val_loss: 6.3267e-04 - val_accuracy: 0.9952\n",
            "Epoch 12/50\n",
            "33/33 [==============================] - 16s 480ms/step - loss: 0.0854 - accuracy: 0.9709 - val_loss: 5.0455e-05 - val_accuracy: 0.9952\n",
            "Epoch 13/50\n",
            "33/33 [==============================] - 16s 479ms/step - loss: 0.0460 - accuracy: 0.9865 - val_loss: 0.0263 - val_accuracy: 0.9952\n",
            "Epoch 14/50\n",
            "33/33 [==============================] - 16s 476ms/step - loss: 0.1476 - accuracy: 0.9740 - val_loss: 0.0401 - val_accuracy: 0.9927\n",
            "Epoch 15/50\n",
            "33/33 [==============================] - 16s 480ms/step - loss: 0.0215 - accuracy: 0.9948 - val_loss: 5.1830e-08 - val_accuracy: 1.0000\n",
            "Epoch 16/50\n",
            "33/33 [==============================] - 16s 477ms/step - loss: 0.0608 - accuracy: 0.9844 - val_loss: 0.0024 - val_accuracy: 0.9976\n",
            "Epoch 17/50\n",
            "33/33 [==============================] - 16s 480ms/step - loss: 0.0737 - accuracy: 0.9792 - val_loss: 0.0470 - val_accuracy: 0.9976\n",
            "Epoch 18/50\n",
            "33/33 [==============================] - 16s 479ms/step - loss: 0.0351 - accuracy: 0.9907 - val_loss: 0.0200 - val_accuracy: 0.9976\n",
            "Epoch 19/50\n",
            "33/33 [==============================] - 16s 475ms/step - loss: 0.0155 - accuracy: 0.9969 - val_loss: 1.5148e-06 - val_accuracy: 0.9976\n",
            "Epoch 20/50\n",
            "33/33 [==============================] - 16s 479ms/step - loss: 0.0825 - accuracy: 0.9803 - val_loss: 0.0026 - val_accuracy: 0.9976\n",
            "Epoch 21/50\n",
            "33/33 [==============================] - 16s 480ms/step - loss: 0.0512 - accuracy: 0.9855 - val_loss: 0.0021 - val_accuracy: 1.0000\n",
            "Epoch 22/50\n",
            "33/33 [==============================] - 16s 477ms/step - loss: 0.0686 - accuracy: 0.9751 - val_loss: 0.0126 - val_accuracy: 0.9927\n",
            "Epoch 23/50\n",
            "33/33 [==============================] - 16s 476ms/step - loss: 0.0380 - accuracy: 0.9907 - val_loss: 0.0202 - val_accuracy: 0.9831\n",
            "Epoch 24/50\n",
            "33/33 [==============================] - 16s 477ms/step - loss: 0.0952 - accuracy: 0.9761 - val_loss: 0.0395 - val_accuracy: 0.9976\n",
            "Epoch 25/50\n",
            "33/33 [==============================] - 16s 477ms/step - loss: 0.0293 - accuracy: 0.9917 - val_loss: 0.0956 - val_accuracy: 0.9976\n",
            "Epoch 26/50\n",
            "33/33 [==============================] - 16s 475ms/step - loss: 0.2293 - accuracy: 0.9792 - val_loss: 1.1319e-05 - val_accuracy: 0.9952\n",
            "Epoch 27/50\n",
            "33/33 [==============================] - 16s 475ms/step - loss: 0.0633 - accuracy: 0.9865 - val_loss: 0.0022 - val_accuracy: 0.9976\n",
            "Epoch 28/50\n",
            "33/33 [==============================] - 16s 476ms/step - loss: 0.0288 - accuracy: 0.9907 - val_loss: 0.0011 - val_accuracy: 0.9976\n",
            "Epoch 29/50\n",
            "33/33 [==============================] - 16s 472ms/step - loss: 0.0131 - accuracy: 0.9990 - val_loss: 3.7636e-05 - val_accuracy: 1.0000\n",
            "Epoch 30/50\n",
            "33/33 [==============================] - 16s 479ms/step - loss: 0.0736 - accuracy: 0.9813 - val_loss: 6.1293e-06 - val_accuracy: 1.0000\n",
            "Epoch 31/50\n",
            "33/33 [==============================] - 16s 473ms/step - loss: 0.0285 - accuracy: 0.9927 - val_loss: 7.7919e-04 - val_accuracy: 0.9879\n",
            "Epoch 32/50\n",
            "33/33 [==============================] - 16s 476ms/step - loss: 0.0543 - accuracy: 0.9823 - val_loss: 3.5142e-06 - val_accuracy: 1.0000\n",
            "Epoch 33/50\n",
            "33/33 [==============================] - 16s 473ms/step - loss: 0.0869 - accuracy: 0.9813 - val_loss: 0.0051 - val_accuracy: 1.0000\n",
            "Epoch 34/50\n",
            "33/33 [==============================] - 16s 473ms/step - loss: 0.0249 - accuracy: 0.9907 - val_loss: 0.0055 - val_accuracy: 0.9976\n",
            "Epoch 35/50\n",
            "33/33 [==============================] - 16s 476ms/step - loss: 0.0275 - accuracy: 0.9938 - val_loss: 2.7211e-08 - val_accuracy: 0.9976\n",
            "Epoch 36/50\n",
            "33/33 [==============================] - 16s 472ms/step - loss: 0.0891 - accuracy: 0.9865 - val_loss: 3.0039e-04 - val_accuracy: 0.9976\n",
            "Epoch 37/50\n",
            "33/33 [==============================] - 16s 470ms/step - loss: 0.0109 - accuracy: 0.9969 - val_loss: 0.6500 - val_accuracy: 0.9976\n",
            "Epoch 38/50\n",
            "33/33 [==============================] - 16s 472ms/step - loss: 0.0373 - accuracy: 0.9917 - val_loss: 1.3010e-06 - val_accuracy: 0.9976\n",
            "Epoch 39/50\n",
            "33/33 [==============================] - 16s 473ms/step - loss: 0.0265 - accuracy: 0.9896 - val_loss: 0.0000e+00 - val_accuracy: 0.9976\n",
            "Epoch 40/50\n",
            "33/33 [==============================] - 16s 479ms/step - loss: 0.0743 - accuracy: 0.9886 - val_loss: 2.6693e-06 - val_accuracy: 0.9976\n",
            "Epoch 41/50\n",
            "33/33 [==============================] - 16s 472ms/step - loss: 0.0352 - accuracy: 0.9927 - val_loss: 1.0909e-05 - val_accuracy: 0.9976\n",
            "Epoch 42/50\n",
            "33/33 [==============================] - 16s 470ms/step - loss: 0.0095 - accuracy: 0.9969 - val_loss: 2.5146e-04 - val_accuracy: 0.9903\n",
            "Epoch 43/50\n",
            "33/33 [==============================] - 16s 472ms/step - loss: 0.0339 - accuracy: 0.9896 - val_loss: 0.0199 - val_accuracy: 1.0000\n",
            "Epoch 44/50\n",
            "33/33 [==============================] - 16s 472ms/step - loss: 0.0231 - accuracy: 0.9927 - val_loss: 2.0732e-07 - val_accuracy: 0.9976\n",
            "Epoch 45/50\n",
            "33/33 [==============================] - 16s 475ms/step - loss: 0.0834 - accuracy: 0.9782 - val_loss: 9.9868e-04 - val_accuracy: 0.9976\n",
            "Epoch 46/50\n",
            "33/33 [==============================] - 16s 473ms/step - loss: 0.0191 - accuracy: 0.9938 - val_loss: 1.3977e-04 - val_accuracy: 0.9976\n",
            "Epoch 47/50\n",
            "33/33 [==============================] - 16s 471ms/step - loss: 0.1541 - accuracy: 0.9813 - val_loss: 0.0050 - val_accuracy: 0.9976\n",
            "Epoch 48/50\n",
            "33/33 [==============================] - 16s 473ms/step - loss: 0.0283 - accuracy: 0.9917 - val_loss: 1.0107e-06 - val_accuracy: 0.9976\n",
            "Epoch 49/50\n",
            "33/33 [==============================] - 16s 473ms/step - loss: 0.0436 - accuracy: 0.9875 - val_loss: 0.0012 - val_accuracy: 0.9976\n",
            "Epoch 50/50\n",
            "33/33 [==============================] - 16s 478ms/step - loss: 0.0407 - accuracy: 0.9907 - val_loss: 0.0061 - val_accuracy: 0.9976\n"
          ],
          "name": "stdout"
        }
      ]
    },
    {
      "cell_type": "code",
      "metadata": {
        "id": "S5rFQPwxEBrs",
        "colab_type": "code",
        "colab": {}
      },
      "source": [
        "custom_vgg_model.save('/content/drive/My Drive/Data/Face Mask Detector/face_mask_vggface_vgg16.h5')"
      ],
      "execution_count": null,
      "outputs": []
    },
    {
      "cell_type": "code",
      "metadata": {
        "id": "Diw6H1OPOtp8",
        "colab_type": "code",
        "colab": {
          "base_uri": "https://localhost:8080/",
          "height": 421
        },
        "outputId": "c2a2dc09-ef7e-4472-a049-035b4c3b0cfe"
      },
      "source": [
        "import matplotlib.pyplot as plt\n",
        "f, (ax1,ax2) = plt.subplots(2,1,figsize=(12,6), sharex=True)\n",
        "ax1.plot(history_2.history['loss'], label='Training Loss')\n",
        "ax1.plot(history_2.history['val_loss'], label='Validation Loss')\n",
        "ax1.set_title('Loss')\n",
        "#ax1.set_xlabel('Epochs')\n",
        "ax1.set_ylabel('Loss Value')\n",
        "ax1.legend()\n",
        "\n",
        "#plt.subplot(2,1,2)\n",
        "ax2.plot(history_2.history['accuracy'], label='Training Accuracy')\n",
        "ax2.plot(history_2.history['val_accuracy'], label='Validation Accuracy')\n",
        "ax2.set_title('Accuracy')\n",
        "ax2.set_xlabel('Epochs')\n",
        "ax2.set_ylabel('Accuracy Value')\n",
        "ax2.legend()"
      ],
      "execution_count": null,
      "outputs": [
        {
          "output_type": "execute_result",
          "data": {
            "text/plain": [
              "<matplotlib.legend.Legend at 0x7fcd1b76f6d8>"
            ]
          },
          "metadata": {
            "tags": []
          },
          "execution_count": 57
        },
        {
          "output_type": "display_data",
          "data": {
            "image/png": "[encoded data removed]",
            "text/plain": [
              "<Figure size 864x432 with 2 Axes>"
            ]
          },
          "metadata": {
            "tags": [],
            "needs_background": "light"
          }
        }
      ]
    },
    {
      "cell_type": "markdown",
      "metadata": {
        "id": "Uqw6bBm7X2iB",
        "colab_type": "text"
      },
      "source": [
        "# Loading and Testing the Model"
      ]
    },
    {
      "cell_type": "code",
      "metadata": {
        "id": "oHLtx2V4PAJu",
        "colab_type": "code",
        "colab": {}
      },
      "source": [
        "from keras.models import load_model\n",
        "model = load_model('/content/drive/My Drive/Data/Face Mask Detector/face_mask_vggface_vgg16.h5')\n"
      ],
      "execution_count": null,
      "outputs": []
    },
    {
      "cell_type": "code",
      "metadata": {
        "id": "c2ayiuAuYHL4",
        "colab_type": "code",
        "colab": {
          "base_uri": "https://localhost:8080/",
          "height": 34
        },
        "outputId": "55f3eda5-7b9c-46c9-cc36-a206641a45c9"
      },
      "source": [
        "import cv2\n",
        "import numpy as np\n",
        "im = cv2.imread('/content/drive/My Drive/Data/Face Mask Detector/temp_face2.png')\n",
        "im = cv2.resize(im, (224,224))\n",
        "im = im / 255\n",
        "im = np.expand_dims(im,axis=0)\n",
        "im.shape"
      ],
      "execution_count": null,
      "outputs": [
        {
          "output_type": "execute_result",
          "data": {
            "text/plain": [
              "(1, 224, 224, 3)"
            ]
          },
          "metadata": {
            "tags": []
          },
          "execution_count": 26
        }
      ]
    },
    {
      "cell_type": "code",
      "metadata": {
        "id": "oVCqT_ipZdQ4",
        "colab_type": "code",
        "colab": {
          "base_uri": "https://localhost:8080/",
          "height": 34
        },
        "outputId": "ecb7cdf2-8a47-4be4-f43d-aff1535e69bc"
      },
      "source": [
        "pred = model.predict(im)\n",
        "final_pred = np.argmax(pred, axis=1)\n",
        "print(final_pred)"
      ],
      "execution_count": null,
      "outputs": [
        {
          "output_type": "stream",
          "text": [
            "[1]\n"
          ],
          "name": "stdout"
        }
      ]
    }
  ]
}